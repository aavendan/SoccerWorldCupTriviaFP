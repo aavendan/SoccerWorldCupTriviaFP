{
 "cells": [
  {
   "cell_type": "code",
   "execution_count": 20,
   "metadata": {},
   "outputs": [],
   "source": [
    "#http://nbviewer.jupyter.org/github/pratapvardhan/FIFAWorldCup/blob/master/fifa-wc-squads.ipynb?create=1\n",
    "\n",
    "import os\n",
    "import hashlib\n",
    "import requests\n",
    "from bs4 import BeautifulSoup\n",
    "import pandas as pd\n",
    "\n",
    "if not os.path.exists('.cache'):\n",
    "    os.makedirs('.cache')\n",
    "\n",
    "ua = 'Mozilla/5.0 (Windows NT 6.1; WOW64) AppleWebKit/537.36 (KHTML, like Gecko) Chrome/34.0.1847.116 Safari/537.36'\n",
    "session = requests.Session()\n",
    "\n",
    "def get(url):\n",
    "    '''Return cached lxml tree for url'''\n",
    "    path = os.path.join('.cache', hashlib.md5(url.encode('utf-8')).hexdigest() + '.html')\n",
    "    if not os.path.exists(path):\n",
    "        response = session.get(url, headers={'User-Agent': ua})\n",
    "        with open(path, 'w') as fd:\n",
    "            texto = str(response.text.encode('utf-8'))\n",
    "            fd.write(texto)\n",
    "    return BeautifulSoup(open(path), 'html.parser')"
   ]
  },
  {
   "cell_type": "code",
   "execution_count": 21,
   "metadata": {},
   "outputs": [],
   "source": [
    "def squads(url):\n",
    "    result = []\n",
    "    soup = get(url)\n",
    "    year = url[29:33]\n",
    "    for table in soup.find_all('table','sortable'):\n",
    "        if \"wikitable\" not in table['class']:\n",
    "            country = table.find_previous(\"span\",\"mw-headline\").text\n",
    "            for tr in table.find_all('tr')[1:]:\n",
    "                cells = [td.text.strip() for td in tr.find_all('td')]\n",
    "                cells += [country, td.a.get('title') if td.a else 'none', year]\n",
    "                result.append(cells)\n",
    "    return result"
   ]
  },
  {
   "cell_type": "code",
   "execution_count": 22,
   "metadata": {},
   "outputs": [],
   "source": [
    "years =  list(range(1930,1939,4))+list(range(1950,2015,4))\n",
    "result = []\n",
    "for year in years:\n",
    "    url = \"http://en.wikipedia.org/wiki/\"+str(year)+\"_FIFA_World_Cup_squads\"\n",
    "    result += squads(url)\n",
    "\n",
    "pd.DataFrame(result).to_csv('data.csv', index=False, encoding='utf-8')"
   ]
  },
  {
   "cell_type": "code",
   "execution_count": null,
   "metadata": {},
   "outputs": [],
   "source": []
  }
 ],
 "metadata": {
  "kernelspec": {
   "display_name": "Python 3",
   "language": "python",
   "name": "python3"
  },
  "language_info": {
   "codemirror_mode": {
    "name": "ipython",
    "version": 3
   },
   "file_extension": ".py",
   "mimetype": "text/x-python",
   "name": "python",
   "nbconvert_exporter": "python",
   "pygments_lexer": "ipython3",
   "version": "3.6.1"
  }
 },
 "nbformat": 4,
 "nbformat_minor": 2
}
