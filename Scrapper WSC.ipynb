{
 "cells": [
  {
   "cell_type": "code",
   "execution_count": 124,
   "metadata": {},
   "outputs": [],
   "source": [
    "#http://www.losmundialesdefutbol.com/estadisticas/maximos_goleadores.php"
   ]
  },
  {
   "cell_type": "code",
   "execution_count": 117,
   "metadata": {},
   "outputs": [],
   "source": [
    "from bs4 import BeautifulSoup\n",
    "import requests\n",
    "from random import shuffle\n",
    "from user_agent import generate_user_agent"
   ]
  },
  {
   "cell_type": "code",
   "execution_count": 57,
   "metadata": {},
   "outputs": [],
   "source": [
    "def makeRequest(page_link):\n",
    "    headers = {'User-Agent': generate_user_agent(device_type=\"desktop\", os=('mac', 'linux'))}\n",
    "    page_response = requests.get(page_link, timeout=5, headers=headers)\n",
    "\n",
    "    return BeautifulSoup(page_response.content, \"html.parser\")"
   ]
  },
  {
   "cell_type": "code",
   "execution_count": 125,
   "metadata": {},
   "outputs": [],
   "source": [
    "def campeonesMundial(page_link):\n",
    "    page_content = makeRequest(page_link)\n",
    "    \n",
    "    resultados = []\n",
    "    for row in page_content.findAll('tr', {'class':'scf12t'} ):\n",
    "        tds = row.findAll('td')\n",
    "        pais = tds[0].get_text().strip()\n",
    "\n",
    "        campeonatos = tds[2].findAll(\"a\")\n",
    "        lstCampeonatos = []\n",
    "        for campeonato in campeonatos:\n",
    "            c = campeonato.get_text().strip().split(\" \")\n",
    "            txt = \" \".join(c[:-1])+\" (\"+c[-1]+\")\"\n",
    "            lstCampeonatos.append(txt)\n",
    "\n",
    "        txt = \" y \".join([\", \".join(lstCampeonatos[:-1]),lstCampeonatos[-1]]) if len(lstCampeonatos) > 1 else \" \".join(lstCampeonatos)\n",
    "        resultados.append(\"%s ha ganado en los mundiales: %s\" % (pais,txt))\n",
    "        shuffle(resultados)\n",
    "    return resultados"
   ]
  },
  {
   "cell_type": "code",
   "execution_count": 126,
   "metadata": {},
   "outputs": [
    {
     "name": "stdout",
     "output_type": "stream",
     "text": [
      "['Argentina ha ganado en los mundiales: Argentina (1978) y México (1986)', 'Italia ha ganado en los mundiales: Italia (1934), Francia (1938), España (1982) y Alemania (2006)', 'Inglaterra ha ganado en los mundiales: Inglaterra (1966)', 'Uruguay ha ganado en los mundiales: Uruguay (1930) y Brasil (1950)', 'Francia ha ganado en los mundiales: Francia (1998)', 'España ha ganado en los mundiales: Sudáfrica (2010)', 'Alemania ha ganado en los mundiales: Suiza (1954), Alemania Occidental (1974), Italia (1990) y Brasil (2014)', 'Brasil ha ganado en los mundiales: Suecia (1958), Chile (1962), México (1970), Estados Unidos (1994) y Corea / Japón (2002)']\n"
     ]
    }
   ],
   "source": [
    "url='http://www.losmundialesdefutbol.com/estadisticas/campeones.php'\n",
    "print(campeonesMundial(url))"
   ]
  },
  {
   "cell_type": "code",
   "execution_count": 131,
   "metadata": {},
   "outputs": [],
   "source": [
    "def goleadores(page_link):\n",
    "    page_content = makeRequest(page_link)\n",
    "    \n",
    "    resultados = []\n",
    "    \n",
    "    for row in page_content.findAll('tr'):\n",
    "        \n",
    "        tds = row.findAll('td')\n",
    "        \n",
    "        if len(tds) == 7:\n",
    "            nombre = tds[1].get_text().strip()\n",
    "            \n",
    "            if nombre != \"Jugador\":\n",
    "                \n",
    "                goles = tds[2].get_text().strip()\n",
    "                partidos = tds[4].get_text().strip()\n",
    "                fechas = \"-\".join(tds[5].get_text().strip().split(\"-\")[1:][0].strip().split(\" \"))\n",
    "                pais = tds[6].get_text().strip()\n",
    "                \n",
    "                resultados.append(';'.join([nombre+\" (\"+pais+\")\",goles, partidos, fechas]))\n",
    "    shuffle(resultados)\n",
    "    return resultados"
   ]
  },
  {
   "cell_type": "code",
   "execution_count": 132,
   "metadata": {},
   "outputs": [],
   "source": [
    "url = \"http://www.losmundialesdefutbol.com/estadisticas/maximos_goleadores.php\"\n",
    "goleadores = goleadores(url)"
   ]
  },
  {
   "cell_type": "code",
   "execution_count": 155,
   "metadata": {},
   "outputs": [
    {
     "name": "stdout",
     "output_type": "stream",
     "text": [
      "Juergen Klinsmann  Juergen Klinsmann (Alemania);11;17;1990-1994-1998\n",
      "Franz Beckenbauer  Franz Beckenbauer (Alemania);5;18;1966-1970-1974\n",
      "Hans Schaefer  Hans Schaefer (Alemania);7;15;1954-1958-1962\n",
      "Max Morlock  Max Morlock (Alemania);6;5;1954\n",
      "Helmut Haller  Helmut Haller (Alemania);6;9;1962-1966-1970\n",
      "Lothar Matthaeus  Lothar Matthaeus (Alemania);6;25;1982-1986-1990-1994-1998\n",
      "Rudi Voeller  Rudi Voeller (Alemania);8;15;1986-1990-1994\n",
      "Gerd Mueller  Gerd Mueller (Alemania);14;13;1970-1974\n",
      "Karl-Heinz Rummenigge  Karl-Heinz Rummenigge (Alemania);9;19;1978-1982-1986\n",
      "Helmut Rahn  Helmut Rahn (Alemania);10;10;1954-1958\n",
      "Thomas Mueller  Thomas Mueller (Alemania);10;13;2010-2014-2018\n",
      "Miroslav Klose  Miroslav Klose (Alemania);16;24;2002-2006-2010-2014\n",
      "Uwe Seeler  Uwe Seeler (Alemania);9;21;1958-1962-1966-1970\n",
      "Lukas Podolski  Lukas Podolski (Alemania);5;15;2006-2010-2014\n",
      "Miroslav Klose  16\n",
      "Lothar Matthaeus  25\n",
      "2010:  ['Thomas Mueller ', 'Miroslav Klose ', 'Lukas Podolski ']\n",
      "Max Morlock  5\n",
      "5\n"
     ]
    }
   ],
   "source": [
    "lstJugador = []\n",
    "lstGoles = []\n",
    "lstMundiales = []\n",
    "lst2010 = []\n",
    "lstPartidos = []\n",
    "\n",
    "for jugador in goleadores:\n",
    "    if \"Alemania\" in jugador:\n",
    "\n",
    "        datos = jugador.split(\";\")\n",
    "        \n",
    "        lstJugador.append(datos[0].split(\"(\")[0])\n",
    "        lstGoles.append(int(datos[1]))\n",
    "        lstMundiales.append(int(datos[2]))\n",
    "        lstPartidos.append(int(datos[-2]))\n",
    "        \n",
    "        print(datos[0].split(\"(\")[0], jugador)\n",
    "\n",
    "        if \"2010\" in datos[-1].split(\"-\"):\n",
    "            lst2010.append(datos[0].split(\"(\")[0])\n",
    "            \n",
    "        \n",
    "maximo = max(lstGoles)\n",
    "indice = lstGoles.index(maximo)\n",
    "print(lstJugador[indice], maximo)\n",
    "\n",
    "maximo = max(lstMundiales)\n",
    "indice = lstMundiales.index(maximo)\n",
    "print(lstJugador[indice], maximo)\n",
    "\n",
    "print(\"2010: \", lst2010)\n",
    "\n",
    "minimo = min(lstPartidos)\n",
    "indice = lstPartidos.index(minimo)\n",
    "print(lstJugador[indice], minimo)\n",
    "\n"
   ]
  },
  {
   "cell_type": "code",
   "execution_count": 161,
   "metadata": {},
   "outputs": [
    {
     "name": "stdout",
     "output_type": "stream",
     "text": [
      "Davor Suker (Serbia);6;8;1990-1998-2002\n",
      "Jon Dahl Tomasson (Dinamarca);5;6;2002-2010\n",
      "Diego Forlan (Uruguay);6;10;2002-2010-2014\n",
      "Roger Milla (Camerún);5;10;1982-1990-1994\n",
      "Teofilo Cubillas (Perú);10;13;1970-1978-1982\n",
      "Henrik Larsson (Suecia);5;13;1994-2002-2006\n"
     ]
    }
   ],
   "source": [
    "for jugador in goleadores:\n",
    "    mund = jugador.split(\";\")[-1].split(\"-\")\n",
    "    \n",
    "    for indice in range(len(mund)-1):\n",
    "        if int(mund[indice+1]) - int(mund[indice]) != 4:\n",
    "            print(jugador)"
   ]
  },
  {
   "cell_type": "code",
   "execution_count": 162,
   "metadata": {},
   "outputs": [
    {
     "name": "stdout",
     "output_type": "stream",
     "text": [
      "['Thierry Henry (Francia);6;17;1998-2002-2006-2010', 'Juergen Klinsmann (Alemania);11;17;1990-1994-1998', 'Franz Beckenbauer (Alemania);5;18;1966-1970-1974', 'Hans Schaefer (Alemania);7;15;1954-1958-1962', 'Geoff Hurst (Inglaterra);5;6;1966-1970', 'Davor Suker (Serbia);6;8;1990-1998-2002', 'Vava (Brasil);9;10;1958-1962', 'Ademir (Brasil);8;6;1950', 'Ronaldo (Brasil);15;19;1994-1998-2002-2006', 'Salvatore Schillaci (Italia);6;7;1990', 'Gonzalo Higuain (Argentina);5;11;2010-2014-2018', 'Fernando Morientes (España);5;7;1998-2002', 'Max Morlock (Alemania);6;5;1954', 'Leonidas (Brasil);8;5;1934-1938', 'Alessandro Altobelli (Italia);5;7;1982-1986', 'Careca (Brasil);7;9;1986-1990', 'Grzegorz Lato (Polonia);10;20;1974-1978-1982', 'Lajos Tichy (Hungría);7;8;1958-1962-1966', 'Guillermo Stabile (Argentina);8;4;1930', 'Eusebio (Portugal);9;6;1966', 'Silvio Piola (Italia);5;4;1938', 'Helmut Haller (Alemania);6;9;1962-1966-1970', 'James Rodríguez (Colombia);6;5;2014-2018', 'Zbigniew Boniek (Polonia);6;16;1978-1982-1986', 'Lothar Matthaeus (Alemania);6;25;1982-1986-1990-1994-1998', 'Tim Cahill (Australia);5;8;2006-2010-2014-2018', 'Jon Dahl Tomasson (Dinamarca);5;6;2002-2010', 'Zinedine Zidane (Francia);5;12;1998-2002-2006', 'Oleg Salenko (Rusia);6;3;1994', 'Luis Suarez (Uruguay);5;8;2010-2014-2018', 'Gabriel Batistuta (Argentina);10;12;1994-1998-2002', 'David Villa (España);9;12;2006-2010-2014', 'Zico (Brasil);5;14;1978-1982-1986', 'Raul (España);5;11;1998-2002-2006', 'Robin Van Persie (Holanda);6;17;2006-2010-2014', 'Bebeto (Brasil);6;15;1990-1994-1998', 'Tomas Skuhravy (Republica Checa);5;5;1990', 'Erich Probst (Austria);6;5;1954', 'Marc Wilmots (Bélgica);5;8;1990-1994-1998-2002', 'Rob Rensenbrink (Holanda);6;13;1974-1978', 'Rudi Voeller (Alemania);8;15;1986-1990-1994', 'Christian Vieri (Italia);9;9;1998-2002', 'Valentin Ivanov (Rusia);5;9;1958-1962', 'Arjen Robben (Holanda);6;15;2006-2010-2014', 'Hristo Stoichkov (Bulgaria);6;10;1994-1998', 'Oldrich Nejedly (Republica Checa);7;6;1934-1938', 'Diego Forlan (Uruguay);6;10;2002-2010-2014', 'Jairzinho (Brasil);9;16;1966-1970-1974', 'Diego Maradona (Argentina);8;21;1982-1986-1990-1994', 'Sepp Huegi (Suiza);6;3;1954', 'Oscar Miguez (Uruguay);8;7;1950-1954', 'Lionel Messi (Argentina);5;15;2006-2010-2014-2018', 'Mario Kempes (Argentina);6;18;1974-1978-1982', 'Garrincha (Brasil);5;12;1958-1962-1966', 'Andrzej Szarmach (Polonia);7;13;1974-1978-1982', 'Rivaldo (Brasil);8;14;1998-2002', 'Fernando Hierro (España);5;12;1990-1994-1998-2002', 'Gerd Mueller (Alemania);14;13;1970-1974', 'Romario (Brasil);5;8;1990-1994', 'Roger Milla (Camerún);5;10;1982-1990-1994', 'Hans Krankl (Austria);5;10;1978-1982', 'Just Fontaine (Francia);13;6;1958', 'Paolo Rossi (Italia);9;14;1978-1982-1986', 'Johan Neeskens (Holanda);5;12;1974-1978', 'Kennet Andersson (Suecia);5;7;1994', 'Gyula Zsengeller (Hungría);5;4;1938', 'Rivelino (Brasil);6;15;1970-1974-1978', 'Michel Platini (Francia);5;14;1978-1982-1986', 'Gyorgy Sarosi (Hungría);6;5;1934-1938', 'Asamoah Gyan (Ghana);6;11;2006-2010-2014', 'Emilio Butragueño (España);5;9;1986-1990', 'Dennis Bergkamp (Holanda);6;12;1994-1998', 'Sandor Kocsis (Hungría);11;5;1954', 'Johnny Rep (Holanda);7;14;1974-1978', 'Wesley Sneijder (Holanda);6;17;2006-2010-2014', 'Pedro Cea (Uruguay);5;4;1930', 'Karl-Heinz Rummenigge (Alemania);9;19;1978-1982-1986', 'Peter Mcparland (Irlanda del Norte);5;5;1958', 'Gary Lineker (Inglaterra);10;12;1986-1990', 'Helmut Rahn (Alemania);10;10;1954-1958', 'Thomas Mueller (Alemania);10;13;2010-2014-2018', 'Miroslav Klose (Alemania);16;24;2002-2006-2010-2014', 'Teofilo Cubillas (Perú);10;13;1970-1978-1982', 'Juan Schiaffino (Uruguay);5;9;1950-1954', 'Pelé (Brasil);12;14;1958-1962-1966-1970', 'Uwe Seeler (Alemania);9;21;1958-1962-1966-1970', 'Henrik Larsson (Suecia);5;13;1994-2002-2006', 'Lukas Podolski (Alemania);5;15;2006-2010-2014', 'Landon Donovan (Estados Unidos);5;12;2002-2006-2010', 'Roberto Baggio (Italia);9;16;1990-1994-1998']\n"
     ]
    }
   ],
   "source": [
    "print(goleadores)"
   ]
  },
  {
   "cell_type": "code",
   "execution_count": null,
   "metadata": {},
   "outputs": [],
   "source": []
  }
 ],
 "metadata": {
  "kernelspec": {
   "display_name": "Python 3",
   "language": "python",
   "name": "python3"
  },
  "language_info": {
   "codemirror_mode": {
    "name": "ipython",
    "version": 3
   },
   "file_extension": ".py",
   "mimetype": "text/x-python",
   "name": "python",
   "nbconvert_exporter": "python",
   "pygments_lexer": "ipython3",
   "version": "3.6.1"
  }
 },
 "nbformat": 4,
 "nbformat_minor": 2
}
