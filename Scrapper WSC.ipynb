{
 "cells": [
  {
   "cell_type": "code",
   "execution_count": 124,
   "metadata": {},
   "outputs": [],
   "source": [
    "#http://www.losmundialesdefutbol.com/estadisticas/maximos_goleadores.php"
   ]
  },
  {
   "cell_type": "code",
   "execution_count": 117,
   "metadata": {},
   "outputs": [],
   "source": [
    "from bs4 import BeautifulSoup\n",
    "import requests\n",
    "from random import shuffle\n",
    "from user_agent import generate_user_agent"
   ]
  },
  {
   "cell_type": "code",
   "execution_count": 57,
   "metadata": {},
   "outputs": [],
   "source": [
    "def makeRequest(page_link):\n",
    "    headers = {'User-Agent': generate_user_agent(device_type=\"desktop\", os=('mac', 'linux'))}\n",
    "    page_response = requests.get(page_link, timeout=5, headers=headers)\n",
    "\n",
    "    return BeautifulSoup(page_response.content, \"html.parser\")"
   ]
  },
  {
   "cell_type": "code",
   "execution_count": 125,
   "metadata": {},
   "outputs": [],
   "source": [
    "def campeonesMundial(page_link):\n",
    "    page_content = makeRequest(page_link)\n",
    "    \n",
    "    resultados = []\n",
    "    for row in page_content.findAll('tr', {'class':'scf12t'} ):\n",
    "        tds = row.findAll('td')\n",
    "        pais = tds[0].get_text().strip()\n",
    "\n",
    "        campeonatos = tds[2].findAll(\"a\")\n",
    "        lstCampeonatos = []\n",
    "        for campeonato in campeonatos:\n",
    "            c = campeonato.get_text().strip().split(\" \")\n",
    "            txt = \" \".join(c[:-1])+\" (\"+c[-1]+\")\"\n",
    "            lstCampeonatos.append(txt)\n",
    "\n",
    "        txt = \" y \".join([\", \".join(lstCampeonatos[:-1]),lstCampeonatos[-1]]) if len(lstCampeonatos) > 1 else \" \".join(lstCampeonatos)\n",
    "        resultados.append(\"%s ha ganado en los mundiales: %s\" % (pais,txt))\n",
    "        shuffle(resultados)\n",
    "    return resultados"
   ]
  },
  {
   "cell_type": "code",
   "execution_count": 126,
   "metadata": {},
   "outputs": [
    {
     "name": "stdout",
     "output_type": "stream",
     "text": [
      "['Argentina ha ganado en los mundiales: Argentina (1978) y México (1986)', 'Italia ha ganado en los mundiales: Italia (1934), Francia (1938), España (1982) y Alemania (2006)', 'Inglaterra ha ganado en los mundiales: Inglaterra (1966)', 'Uruguay ha ganado en los mundiales: Uruguay (1930) y Brasil (1950)', 'Francia ha ganado en los mundiales: Francia (1998)', 'España ha ganado en los mundiales: Sudáfrica (2010)', 'Alemania ha ganado en los mundiales: Suiza (1954), Alemania Occidental (1974), Italia (1990) y Brasil (2014)', 'Brasil ha ganado en los mundiales: Suecia (1958), Chile (1962), México (1970), Estados Unidos (1994) y Corea / Japón (2002)']\n"
     ]
    }
   ],
   "source": [
    "url='http://www.losmundialesdefutbol.com/estadisticas/campeones.php'\n",
    "print(campeonesMundial(url))"
   ]
  },
  {
   "cell_type": "code",
   "execution_count": 122,
   "metadata": {},
   "outputs": [],
   "source": [
    "def goleadores(page_link):\n",
    "    page_content = makeRequest(page_link)\n",
    "    \n",
    "    resultados = []\n",
    "    \n",
    "    for row in page_content.findAll('tr'):\n",
    "        \n",
    "        tds = row.findAll('td')\n",
    "        \n",
    "        if len(tds) == 7:\n",
    "            nombre = tds[1].get_text().strip()\n",
    "            \n",
    "            if nombre != \"Jugador\":\n",
    "                \n",
    "                goles = tds[2].get_text().strip()\n",
    "                partidos = tds[4].get_text().strip()\n",
    "                fechas = \"-\".join(tds[5].get_text().strip().split(\"-\")[1:][0].strip().split(\" \"))\n",
    "                pais = tds[6].get_text().strip()\n",
    "                \n",
    "                resultados.append(';'.join([nombre,goles, partidos, fechas, pais]))\n",
    "    shuffle(resultados)\n",
    "    print(resultados)"
   ]
  },
  {
   "cell_type": "code",
   "execution_count": 123,
   "metadata": {},
   "outputs": [
    {
     "name": "stdout",
     "output_type": "stream",
     "text": [
      "['Robin Van Persie;6;17;2006-2010-2014;Holanda', 'Lothar Matthaeus;6;25;1982-1986-1990-1994-1998;Alemania', 'Gerd Mueller;14;13;1970-1974;Alemania', 'Helmut Rahn;10;10;1954-1958;Alemania', 'Eusebio;9;6;1966;Portugal', 'Erich Probst;6;5;1954;Austria', 'Just Fontaine;13;6;1958;Francia', 'Michel Platini;5;14;1978-1982-1986;Francia', 'Rivelino;6;15;1970-1974-1978;Brasil', 'Christian Vieri;9;9;1998-2002;Italia', 'Rudi Voeller;8;15;1986-1990-1994;Alemania', 'Arjen Robben;6;15;2006-2010-2014;Holanda', 'Jairzinho;9;16;1966-1970-1974;Brasil', 'Ronaldo;15;19;1994-1998-2002-2006;Brasil', 'Hans Schaefer;7;15;1954-1958-1962;Alemania', 'Diego Maradona;8;21;1982-1986-1990-1994;Argentina', 'James Rodríguez;6;5;2014-2018;Colombia', 'Alessandro Altobelli;5;7;1982-1986;Italia', 'Rob Rensenbrink;6;13;1974-1978;Holanda', 'Gary Lineker;10;12;1986-1990;Inglaterra', 'Raul;5;11;1998-2002-2006;España', 'David Villa;9;12;2006-2010-2014;España', 'Karl-Heinz Rummenigge;9;19;1978-1982-1986;Alemania', 'Diego Forlan;6;10;2002-2010-2014;Uruguay', 'Romario;5;8;1990-1994;Brasil', 'Marc Wilmots;5;8;1990-1994-1998-2002;Bélgica', 'Rivaldo;8;14;1998-2002;Brasil', 'Lukas Podolski;5;15;2006-2010-2014;Alemania', 'Grzegorz Lato;10;20;1974-1978-1982;Polonia', 'Henrik Larsson;5;13;1994-2002-2006;Suecia', 'Gyula Zsengeller;5;4;1938;Hungría', 'Teofilo Cubillas;10;13;1970-1978-1982;Perú', 'Thierry Henry;6;17;1998-2002-2006-2010;Francia', 'Asamoah Gyan;6;11;2006-2010-2014;Ghana', 'Zico;5;14;1978-1982-1986;Brasil', 'Johnny Rep;7;14;1974-1978;Holanda', 'Roberto Baggio;9;16;1990-1994-1998;Italia', 'Garrincha;5;12;1958-1962-1966;Brasil', 'Juergen Klinsmann;11;17;1990-1994-1998;Alemania', 'Geoff Hurst;5;6;1966-1970;Inglaterra', 'Davor Suker;6;8;1990-1998-2002;Serbia', 'Lionel Messi;5;15;2006-2010-2014-2018;Argentina', 'Oleg Salenko;6;3;1994;Rusia', 'Helmut Haller;6;9;1962-1966-1970;Alemania', 'Pedro Cea;5;4;1930;Uruguay', 'Roger Milla;5;10;1982-1990-1994;Camerún', 'Fernando Hierro;5;12;1990-1994-1998-2002;España', 'Careca;7;9;1986-1990;Brasil', 'Max Morlock;6;5;1954;Alemania', 'Hristo Stoichkov;6;10;1994-1998;Bulgaria', 'Uwe Seeler;9;21;1958-1962-1966-1970;Alemania', 'Juan Schiaffino;5;9;1950-1954;Uruguay', 'Paolo Rossi;9;14;1978-1982-1986;Italia', 'Ademir;8;6;1950;Brasil', 'Tomas Skuhravy;5;5;1990;Republica Checa', 'Vava;9;10;1958-1962;Brasil', 'Landon Donovan;5;12;2002-2006-2010;Estados Unidos', 'Thomas Mueller;10;13;2010-2014-2018;Alemania', 'Peter Mcparland;5;5;1958;Irlanda del Norte', 'Hans Krankl;5;10;1978-1982;Austria', 'Gonzalo Higuain;5;11;2010-2014-2018;Argentina', 'Franz Beckenbauer;5;18;1966-1970-1974;Alemania', 'Dennis Bergkamp;6;12;1994-1998;Holanda', 'Zbigniew Boniek;6;16;1978-1982-1986;Polonia', 'Wesley Sneijder;6;17;2006-2010-2014;Holanda', 'Lajos Tichy;7;8;1958-1962-1966;Hungría', 'Tim Cahill;5;8;2006-2010-2014-2018;Australia', 'Kennet Andersson;5;7;1994;Suecia', 'Pelé;12;14;1958-1962-1966-1970;Brasil', 'Sepp Huegi;6;3;1954;Suiza', 'Gabriel Batistuta;10;12;1994-1998-2002;Argentina', 'Jon Dahl Tomasson;5;6;2002-2010;Dinamarca', 'Emilio Butragueño;5;9;1986-1990;España', 'Zinedine Zidane;5;12;1998-2002-2006;Francia', 'Fernando Morientes;5;7;1998-2002;España', 'Salvatore Schillaci;6;7;1990;Italia', 'Johan Neeskens;5;12;1974-1978;Holanda', 'Oscar Miguez;8;7;1950-1954;Uruguay', 'Valentin Ivanov;5;9;1958-1962;Rusia', 'Andrzej Szarmach;7;13;1974-1978-1982;Polonia', 'Luis Suarez;5;8;2010-2014-2018;Uruguay', 'Leonidas;8;5;1934-1938;Brasil', 'Sandor Kocsis;11;5;1954;Hungría', 'Silvio Piola;5;4;1938;Italia', 'Bebeto;6;15;1990-1994-1998;Brasil', 'Guillermo Stabile;8;4;1930;Argentina', 'Miroslav Klose;16;24;2002-2006-2010-2014;Alemania', 'Oldrich Nejedly;7;6;1934-1938;Republica Checa', 'Gyorgy Sarosi;6;5;1934-1938;Hungría', 'Mario Kempes;6;18;1974-1978-1982;Argentina']\n"
     ]
    }
   ],
   "source": [
    "url = \"http://www.losmundialesdefutbol.com/estadisticas/maximos_goleadores.php\"\n",
    "goleadores(url)"
   ]
  },
  {
   "cell_type": "code",
   "execution_count": null,
   "metadata": {},
   "outputs": [],
   "source": []
  }
 ],
 "metadata": {
  "kernelspec": {
   "display_name": "Python 3",
   "language": "python",
   "name": "python3"
  },
  "language_info": {
   "codemirror_mode": {
    "name": "ipython",
    "version": 3
   },
   "file_extension": ".py",
   "mimetype": "text/x-python",
   "name": "python",
   "nbconvert_exporter": "python",
   "pygments_lexer": "ipython3",
   "version": "3.6.1"
  }
 },
 "nbformat": 4,
 "nbformat_minor": 2
}
